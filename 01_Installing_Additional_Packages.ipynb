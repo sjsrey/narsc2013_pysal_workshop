{
 "cells": [
  {
   "cell_type": "markdown",
   "metadata": {},
   "source": [
    "###Installing Additional Packages\n",
    "\n",
    "This notebook covers the installation of the Geospatial Data Abstraction Library.  We will use this library as our primary file input and output mechanism."
   ]
  },
  {
   "cell_type": "code",
   "execution_count": 1,
   "metadata": {
    "collapsed": false
   },
   "outputs": [
    {
     "name": "stdout",
     "output_type": "stream",
     "text": [
      "Fetching package metadata: ....\n",
      "Solving package specifications: .\n",
      "Package plan for installation in environment /Users/jay/anaconda:\n",
      "\n",
      "The following packages will be downloaded:\n",
      "\n",
      "    package                    |            build\n",
      "    ---------------------------|-----------------\n",
      "    libgdal-1.11.2             |                0        14.1 MB\n",
      "    curl-7.38.0                |                0         361 KB\n",
      "    libnetcdf-4.3.2            |                1         840 KB\n",
      "    gdal-1.11.2                |       np19py27_2         412 KB\n",
      "    ------------------------------------------------------------\n",
      "                                           Total:        15.6 MB\n",
      "\n",
      "The following NEW packages will be INSTALLED:\n",
      "\n",
      "    libgdal:   1.11.2-0         \n",
      "\n",
      "The following packages will be UPDATED:\n",
      "\n",
      "    curl:      7.30.0-1          --> 7.38.0-0         \n",
      "    gdal:      1.11.0-np19py27_0 --> 1.11.2-np19py27_2\n",
      "    libnetcdf: 4.2.1.1-1         --> 4.3.2-1          \n",
      "\n",
      "Fetching packages ...\n",
      "libgdal-1.11.2 100% |################################| Time: 0:00:04   3.65 MB/s\n",
      "curl-7.38.0-0. 100% |################################| Time: 0:00:00 516.45 kB/s\n",
      "libnetcdf-4.3. 100% |################################| Time: 0:00:00   1.11 MB/s\n",
      "gdal-1.11.2-np 100% |################################| Time: 0:00:01 380.82 kB/s\n",
      "Extracting packages ...\n",
      "[      COMPLETE      ]|###################################################| 100%\n",
      "Unlinking packages ...\n",
      "[      COMPLETE      ]|###################################################| 100%\n",
      "Linking packages ...\n",
      "[      COMPLETE      ]|###################################################| 100%\n"
     ]
    }
   ],
   "source": [
    "!conda install --yes gdal"
   ]
  },
  {
   "cell_type": "markdown",
   "metadata": {},
   "source": [
    "Check the GDAL installation by importing the GDAL library."
   ]
  },
  {
   "cell_type": "code",
   "execution_count": 2,
   "metadata": {
    "collapsed": false
   },
   "outputs": [],
   "source": [
    "from osgeo import gdal"
   ]
  },
  {
   "cell_type": "code",
   "execution_count": 3,
   "metadata": {
    "collapsed": false
   },
   "outputs": [
    {
     "name": "stdout",
     "output_type": "stream",
     "text": [
      "1.10.1\n"
     ]
    }
   ],
   "source": [
    "print(gdal.__version__)"
   ]
  },
  {
   "cell_type": "markdown",
   "metadata": {},
   "source": [
    "###Install the future package"
   ]
  },
  {
   "cell_type": "code",
   "execution_count": 1,
   "metadata": {
    "collapsed": false
   },
   "outputs": [
    {
     "name": "stdout",
     "output_type": "stream",
     "text": [
      "Fetching package metadata: ....\n",
      "Solving package specifications: .\n",
      "Package plan for installation in environment /Users/jay/anaconda:\n",
      "\n",
      "The following packages will be downloaded:\n",
      "\n",
      "    package                    |            build\n",
      "    ---------------------------|-----------------\n",
      "    future-0.14.3              |           py27_0         609 KB\n",
      "\n",
      "The following NEW packages will be INSTALLED:\n",
      "\n",
      "    future: 0.14.3-py27_0\n",
      "\n",
      "Fetching packages ...\n",
      "future-0.14.3- 100% |################################| Time: 0:00:00   1.03 MB/s\n",
      "Extracting packages ...\n",
      "[      COMPLETE      ]|###################################################| 100%\n",
      "Linking packages ...\n",
      "[      COMPLETE      ]|###################################################| 100%\n"
     ]
    }
   ],
   "source": [
    "! conda install -y future"
   ]
  },
  {
   "cell_type": "code",
   "execution_count": null,
   "metadata": {
    "collapsed": true
   },
   "outputs": [],
   "source": []
  }
 ],
 "metadata": {
  "kernelspec": {
   "display_name": "Python 2",
   "language": "python",
   "name": "python2"
  },
  "language_info": {
   "codemirror_mode": {
    "name": "ipython",
    "version": 2
   },
   "file_extension": ".py",
   "mimetype": "text/x-python",
   "name": "python",
   "nbconvert_exporter": "python",
   "pygments_lexer": "ipython2",
   "version": "2.7.10"
  }
 },
 "nbformat": 4,
 "nbformat_minor": 0
}
