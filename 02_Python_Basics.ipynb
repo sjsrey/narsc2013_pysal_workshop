{
 "cells": [
  {
   "cell_type": "markdown",
   "metadata": {},
   "source": [
    "# Python Basics\n",
    "This notebooks illustrates Python syntax and basic data structures used throughout the remainder of the tutorial."
   ]
  },
  {
   "cell_type": "markdown",
   "metadata": {},
   "source": [
    "###Numeric Types"
   ]
  },
  {
   "cell_type": "code",
   "execution_count": 23,
   "metadata": {
    "collapsed": false
   },
   "outputs": [
    {
     "data": {
      "text/plain": [
       "int"
      ]
     },
     "execution_count": 23,
     "metadata": {},
     "output_type": "execute_result"
    }
   ],
   "source": [
    "x = 1\n",
    "type(x)"
   ]
  },
  {
   "cell_type": "code",
   "execution_count": 24,
   "metadata": {
    "collapsed": false
   },
   "outputs": [
    {
     "data": {
      "text/plain": [
       "float"
      ]
     },
     "execution_count": 24,
     "metadata": {},
     "output_type": "execute_result"
    }
   ],
   "source": [
    "y = 2.0\n",
    "type(y)"
   ]
  },
  {
   "cell_type": "code",
   "execution_count": 25,
   "metadata": {
    "collapsed": false
   },
   "outputs": [
    {
     "data": {
      "text/plain": [
       "(bool, bool)"
      ]
     },
     "execution_count": 25,
     "metadata": {},
     "output_type": "execute_result"
    }
   ],
   "source": [
    "t = True\n",
    "f = False\n",
    "type(t), type(f)"
   ]
  },
  {
   "cell_type": "code",
   "execution_count": 28,
   "metadata": {
    "collapsed": false
   },
   "outputs": [
    {
     "name": "stdout",
     "output_type": "stream",
     "text": [
      "<type 'complex'>\n",
      "(2.0, -1.0)\n"
     ]
    }
   ],
   "source": [
    "com = y - 1.0j\n",
    "print(type(com))\n",
    "print(com.real, com.imag)"
   ]
  },
  {
   "cell_type": "markdown",
   "metadata": {},
   "source": [
    "###String Types"
   ]
  },
  {
   "cell_type": "code",
   "execution_count": 34,
   "metadata": {
    "collapsed": false
   },
   "outputs": [
    {
     "data": {
      "text/plain": [
       "str"
      ]
     },
     "execution_count": 34,
     "metadata": {},
     "output_type": "execute_result"
    }
   ],
   "source": [
    "s = 'foo'\n",
    "type(s)"
   ]
  },
  {
   "cell_type": "code",
   "execution_count": 35,
   "metadata": {
    "collapsed": false
   },
   "outputs": [
    {
     "data": {
      "text/plain": [
       "3"
      ]
     },
     "execution_count": 35,
     "metadata": {},
     "output_type": "execute_result"
    }
   ],
   "source": [
    "#How long is the string?\n",
    "len(s)"
   ]
  },
  {
   "cell_type": "code",
   "execution_count": 38,
   "metadata": {
    "collapsed": false
   },
   "outputs": [
    {
     "name": "stdout",
     "output_type": "stream",
     "text": [
      "is foo the reversal of bar?\n",
      "is foo the reversal of oof?\n"
     ]
    }
   ],
   "source": [
    "s = 'is foo the reversal of bar?'\n",
    "print(s)\n",
    "s2 = s.replace('bar', 'oof')\n",
    "print(s2)"
   ]
  },
  {
   "cell_type": "code",
   "execution_count": 58,
   "metadata": {
    "collapsed": false
   },
   "outputs": [
    {
     "name": "stdout",
     "output_type": "stream",
     "text": [
      "('f', 'oo', 's', 'b', 'a', 'll')\n",
      "<type 'tuple'>\n",
      "foosball\n"
     ]
    }
   ],
   "source": [
    "#Index based access (works on string as well.)\n",
    "word = s[3], s[4:6], s[-11], s[23], s[24], s[-9] * 2\n",
    "print(word)\n",
    "print(type(word))\n",
    "\n",
    "print(''.join(word))"
   ]
  },
  {
   "cell_type": "markdown",
   "metadata": {},
   "source": [
    "###Complex Types: Tuples, Lists, and Dictionaries"
   ]
  },
  {
   "cell_type": "markdown",
   "metadata": {},
   "source": [
    "#####Tuples"
   ]
  },
  {
   "cell_type": "code",
   "execution_count": 77,
   "metadata": {
    "collapsed": false
   },
   "outputs": [
    {
     "name": "stdout",
     "output_type": "stream",
     "text": [
      "<type 'tuple'>\n",
      "Latitude: 35.2014\n"
     ]
    }
   ],
   "source": [
    "flagstaff = (35.2014, -111.6392)\n",
    "print(type(flagstaff))"
   ]
  },
  {
   "cell_type": "code",
   "execution_count": 78,
   "metadata": {
    "collapsed": true
   },
   "outputs": [],
   "source": [
    "#Index based access (slicing) is still possible."
   ]
  },
  {
   "cell_type": "markdown",
   "metadata": {},
   "source": [
    "Maybe try moving Flagstaff."
   ]
  },
  {
   "cell_type": "code",
   "execution_count": 79,
   "metadata": {
    "collapsed": false
   },
   "outputs": [
    {
     "ename": "TypeError",
     "evalue": "'tuple' object does not support item assignment",
     "output_type": "error",
     "traceback": [
      "\u001b[0;31m---------------------------------------------------------------------------\u001b[0m",
      "\u001b[0;31mTypeError\u001b[0m                                 Traceback (most recent call last)",
      "\u001b[0;32m<ipython-input-79-522a1b7ea88e>\u001b[0m in \u001b[0;36m<module>\u001b[0;34m()\u001b[0m\n\u001b[0;32m----> 1\u001b[0;31m \u001b[0mflagstaff\u001b[0m\u001b[0;34m[\u001b[0m\u001b[0;36m0\u001b[0m\u001b[0;34m]\u001b[0m \u001b[0;34m+=\u001b[0m \u001b[0;36m24\u001b[0m\u001b[0;34m\u001b[0m\u001b[0m\n\u001b[0m",
      "\u001b[0;31mTypeError\u001b[0m: 'tuple' object does not support item assignment"
     ]
    }
   ],
   "source": [
    "flagstaff[0] += 24"
   ]
  },
  {
   "cell_type": "markdown",
   "metadata": {},
   "source": [
    "#####Lists\n",
    "If we want to move the point, maybe cast the tuple to a list."
   ]
  },
  {
   "cell_type": "code",
   "execution_count": 80,
   "metadata": {
    "collapsed": false
   },
   "outputs": [
    {
     "name": "stdout",
     "output_type": "stream",
     "text": [
      "[59.2014, -111.6392]\n"
     ]
    }
   ],
   "source": [
    "flag = list(flagstaff)\n",
    "flag[0] += 24\n",
    "print(flag)"
   ]
  },
  {
   "cell_type": "code",
   "execution_count": 88,
   "metadata": {
    "collapsed": false
   },
   "outputs": [
    {
     "name": "stdout",
     "output_type": "stream",
     "text": [
      "[0, 1, 2, 3, 4, 5, 6, 7, 8, 9]\n",
      "[0, 2, 4, 6, 8]\n",
      "[1, 3, 5, 7, 9]\n",
      "[9, 8, 7, 6, 5, 4, 3, 2, 1, 0]\n"
     ]
    }
   ],
   "source": [
    "#More list manipulation\n",
    "x = range(10) \n",
    "print(x)\n",
    "print(x[::2]) #Slicing as start, stop, step\n",
    "print(x[1::2])\n",
    "print(x[::-1])"
   ]
  },
  {
   "cell_type": "markdown",
   "metadata": {},
   "source": [
    "#####Dictionaries"
   ]
  },
  {
   "cell_type": "markdown",
   "metadata": {},
   "source": [
    "Maybe use a PVL example.  I like to render PVL into Python dictionaries since I can recursively (programmatically) traverse all the keys, find what I need and, if necessary add information."
   ]
  },
  {
   "cell_type": "code",
   "execution_count": 89,
   "metadata": {
    "collapsed": true
   },
   "outputs": [],
   "source": [
    "header = {'IMAGE_DESCRIPTION':\n",
    "              {'SPACECRAFT_NAME':'VOYAGER_2',\n",
    "               'TARGET_NAME': 'IO',\n",
    "               'IMAGE_ID': \"0514J2-00\",\n",
    "               'IMAGE_TIME':'1979-07-08T05:19:11Z',\n",
    "               'INSTRUMENT_NAME':'NARROW_ANGLE_CAMERA',\n",
    "               'EXPOSURE_DURATION':{'VALUE': 1.9200,\n",
    "                                    'UNIT': 'SECONDS'},\n",
    "               'NOTE': 'Routine multispectral longitude coverage, 1 of 7 frames'}\n",
    "         }"
   ]
  },
  {
   "cell_type": "code",
   "execution_count": 90,
   "metadata": {
    "collapsed": false
   },
   "outputs": [
    {
     "data": {
      "text/plain": [
       "['IMAGE_DESCRIPTION']"
      ]
     },
     "execution_count": 90,
     "metadata": {},
     "output_type": "execute_result"
    }
   ],
   "source": [
    "header.keys()"
   ]
  },
  {
   "cell_type": "code",
   "execution_count": 91,
   "metadata": {
    "collapsed": false
   },
   "outputs": [
    {
     "data": {
      "text/plain": [
       "{'EXPOSURE_DURATION': {'UNIT': 'SECONDS', 'VALUE': 1.92},\n",
       " 'IAMGE_TIME': '1979-07-08T05:19:11Z',\n",
       " 'IMAGE_ID': '0514J2-00',\n",
       " 'INSTRUMENT_NAME': 'NARROW_ANGLE_CAMERA',\n",
       " 'NOTE': 'Routine multispectral longitude coverage, 1 of 7 frames',\n",
       " 'SPACECRAFT_NAME': 'VOYAGER_2',\n",
       " 'TARGET_NAME': 'IO'}"
      ]
     },
     "execution_count": 91,
     "metadata": {},
     "output_type": "execute_result"
    }
   ],
   "source": [
    "header['IMAGE_DESCRIPTION']"
   ]
  },
  {
   "cell_type": "code",
   "execution_count": 95,
   "metadata": {
    "collapsed": false
   },
   "outputs": [
    {
     "name": "stdout",
     "output_type": "stream",
     "text": [
      "('TARGET_NAME', 'IO')\n",
      "('SPACECRAFT_NAME', 'VOYAGER_2')\n",
      "('IAMGE_TIME', '1979-07-08T05:19:11Z')\n",
      "('NOTE', 'Routine multispectral longitude coverage, 1 of 7 frames')\n",
      "('IMAGE_ID', '0514J2-00')\n",
      "('INSTRUMENT_NAME', 'NARROW_ANGLE_CAMERA')\n",
      "('EXPOSURE_DURATION', {'UNIT': 'SECONDS', 'VALUE': 1.92})\n"
     ]
    }
   ],
   "source": [
    "#How about looping through the keys\n",
    "from future.utils import iteritems\n",
    "for (key, value) in iteritems(header['IMAGE_DESCRIPTION']):\n",
    "    print(key, value)"
   ]
  },
  {
   "cell_type": "markdown",
   "metadata": {},
   "source": [
    "In the above example I used `from future.utils import iteritems` in an effort to make the code Python2 and Python3 compatible.  If you are working with just Python 2, you could use:\n",
    "\n",
    "    for key, value in dict.iteritems():\n",
    "        print key, value\n",
    "        \n",
    "If the code is only ever going to be used in Python 3, you could use:\n",
    "\n",
    "    for key, value in dict.items():\n",
    "        print key, value"
   ]
  },
  {
   "cell_type": "markdown",
   "metadata": {},
   "source": [
    "###Flow Control: Loops, If / Else, Comparisons"
   ]
  },
  {
   "cell_type": "code",
   "execution_count": 104,
   "metadata": {
    "collapsed": false
   },
   "outputs": [
    {
     "name": "stdout",
     "output_type": "stream",
     "text": [
      "45\n",
      "True\n"
     ]
    }
   ],
   "source": [
    "from future.utils import lrange  #Another Py2 / Py3 compatability import\n",
    "x = lrange(10)\n",
    "total = 0\n",
    "for i in x:\n",
    "    total += i  #Add i to total, this is the same as total = total + i\n",
    "    \n",
    "print(total)\n",
    "\n",
    "#Just to be smart and use a builtin that I know is error free.\n",
    "total2 = sum(x)\n",
    "print(total == total2)"
   ]
  },
  {
   "cell_type": "markdown",
   "metadata": {},
   "source": [
    "####Flow Control"
   ]
  },
  {
   "cell_type": "code",
   "execution_count": 109,
   "metadata": {
    "collapsed": false
   },
   "outputs": [
    {
     "name": "stdout",
     "output_type": "stream",
     "text": [
      "0 < 2\n",
      "1 < 2\n",
      "2 <= 2 < 5\n",
      "2 <= 3 < 5\n",
      "2 <= 4 < 5\n",
      "5 >= 5\n",
      "6 >= 5\n",
      "7 >= 5\n",
      "8 >= 5\n",
      "9 >= 5\n"
     ]
    }
   ],
   "source": [
    "for i in x:\n",
    "    if i < 2:\n",
    "        print(\"{} < 2\".format(i))\n",
    "    elif i >= 2 and i < 5:\n",
    "        print(\"2 <= {} < 5\".format(i))\n",
    "    else:\n",
    "        print(\"{} >= 5\".format(i))"
   ]
  },
  {
   "cell_type": "markdown",
   "metadata": {},
   "source": [
    "####Building lists with loops"
   ]
  },
  {
   "cell_type": "code",
   "execution_count": 112,
   "metadata": {
    "collapsed": false
   },
   "outputs": [
    {
     "name": "stdout",
     "output_type": "stream",
     "text": [
      "[-3, -2, -1, 0, 1, 2, 3]\n"
     ]
    }
   ],
   "source": [
    "empty = []\n",
    "for i in lrange(-3, 4):  #Check if the lrange is inclusive of the stop?\n",
    "    empty.append(i)\n",
    "print(empty)"
   ]
  },
  {
   "cell_type": "code",
   "execution_count": 115,
   "metadata": {
    "collapsed": false
   },
   "outputs": [
    {
     "name": "stdout",
     "output_type": "stream",
     "text": [
      "True\n"
     ]
    }
   ],
   "source": [
    "#Much more succinct one liner.\n",
    "empty2 = [i for i in lrange(-3, 4)]\n",
    "print(empty == empty2)"
   ]
  },
  {
   "cell_type": "markdown",
   "metadata": {},
   "source": [
    "#### Basic Mathematics"
   ]
  },
  {
   "cell_type": "code",
   "execution_count": 1,
   "metadata": {
    "collapsed": false
   },
   "outputs": [
    {
     "data": {
      "text/plain": [
       "4"
      ]
     },
     "execution_count": 1,
     "metadata": {},
     "output_type": "execute_result"
    }
   ],
   "source": [
    "2 + 2"
   ]
  },
  {
   "cell_type": "code",
   "execution_count": 4,
   "metadata": {
    "collapsed": false
   },
   "outputs": [
    {
     "data": {
      "text/plain": [
       "2.3333333333333335"
      ]
     },
     "execution_count": 4,
     "metadata": {},
     "output_type": "execute_result"
    }
   ],
   "source": [
    "#In Python 3, division acts as one would expect.\n",
    "7 / 3"
   ]
  },
  {
   "cell_type": "code",
   "execution_count": 2,
   "metadata": {
    "collapsed": false
   },
   "outputs": [
    {
     "name": "stdout",
     "output_type": "stream",
     "text": [
      "2\n",
      "2\n"
     ]
    }
   ],
   "source": [
    "#In Python 2, the above returns:\n",
    "print int(7/3)\n",
    "print 7/3"
   ]
  },
  {
   "cell_type": "code",
   "execution_count": 3,
   "metadata": {
    "collapsed": false
   },
   "outputs": [
    {
     "data": {
      "text/plain": [
       "2.3333333333333335"
      ]
     },
     "execution_count": 3,
     "metadata": {},
     "output_type": "execute_result"
    }
   ],
   "source": [
    "#With this tutorial out goal is to be both Python 2.x and Python 3.x compatible.  \n",
    "# We do this through imports, minor syntax changes, etc.\n",
    "from __future__ import division\n",
    "#Now division will work as you would expect it to, a la Python 3\n",
    "7 / 3"
   ]
  },
  {
   "cell_type": "code",
   "execution_count": 9,
   "metadata": {
    "collapsed": false
   },
   "outputs": [
    {
     "data": {
      "text/plain": [
       "1"
      ]
     },
     "execution_count": 9,
     "metadata": {},
     "output_type": "execute_result"
    }
   ],
   "source": [
    "#If we want the remainder, we can use the modulo\n",
    "7 % 2"
   ]
  },
  {
   "cell_type": "code",
   "execution_count": 6,
   "metadata": {
    "collapsed": false
   },
   "outputs": [
    {
     "data": {
      "text/plain": [
       "(2, 1)"
      ]
     },
     "execution_count": 6,
     "metadata": {},
     "output_type": "execute_result"
    }
   ],
   "source": [
    "#Or use a built-in function that returns the whole number result plus remainder\n",
    "divmod(7, 3)"
   ]
  },
  {
   "cell_type": "code",
   "execution_count": 7,
   "metadata": {
    "collapsed": false
   },
   "outputs": [
    {
     "data": {
      "text/plain": [
       "21"
      ]
     },
     "execution_count": 7,
     "metadata": {},
     "output_type": "execute_result"
    }
   ],
   "source": [
    "7 * 3"
   ]
  },
  {
   "cell_type": "markdown",
   "metadata": {},
   "source": [
    "Python uses a modular design, in that functionality is (hopefully) logically organized and importable when needed.  For example $\\sqrt{9}$ can be realized as:"
   ]
  },
  {
   "cell_type": "code",
   "execution_count": 8,
   "metadata": {
    "collapsed": false
   },
   "outputs": [
    {
     "data": {
      "text/plain": [
       "3.0"
      ]
     },
     "execution_count": 8,
     "metadata": {},
     "output_type": "execute_result"
    }
   ],
   "source": [
    "import math\n",
    "math.sqrt(9)"
   ]
  },
  {
   "cell_type": "raw",
   "metadata": {},
   "source": [
    "or"
   ]
  },
  {
   "cell_type": "code",
   "execution_count": 9,
   "metadata": {
    "collapsed": false
   },
   "outputs": [
    {
     "data": {
      "text/plain": [
       "3.0"
      ]
     },
     "execution_count": 9,
     "metadata": {},
     "output_type": "execute_result"
    }
   ],
   "source": [
    "from math import sqrt\n",
    "sqrt(9)"
   ]
  },
  {
   "cell_type": "markdown",
   "metadata": {},
   "source": [
    "Please do not use:\n",
    "\n",
    "`from math import *`\n",
    "\n",
    "While you might see this in samples online, it is poor form and pollutes the namespace."
   ]
  },
  {
   "cell_type": "markdown",
   "metadata": {},
   "source": [
    "What did we just get with the `math` module?"
   ]
  },
  {
   "cell_type": "code",
   "execution_count": 11,
   "metadata": {
    "collapsed": false
   },
   "outputs": [
    {
     "name": "stdout",
     "output_type": "stream",
     "text": [
      "['__doc__', '__file__', '__name__', '__package__', 'acos', 'acosh', 'asin', 'asinh', 'atan', 'atan2', 'atanh', 'ceil', 'copysign', 'cos', 'cosh', 'degrees', 'e', 'erf', 'erfc', 'exp', 'expm1', 'fabs', 'factorial', 'floor', 'fmod', 'frexp', 'fsum', 'gamma', 'hypot', 'isinf', 'isnan', 'ldexp', 'lgamma', 'log', 'log10', 'log1p', 'modf', 'pi', 'pow', 'radians', 'sin', 'sinh', 'sqrt', 'tan', 'tanh', 'trunc']\n"
     ]
    }
   ],
   "source": [
    "print(dir(math))"
   ]
  },
  {
   "cell_type": "code",
   "execution_count": 12,
   "metadata": {
    "collapsed": false
   },
   "outputs": [
    {
     "name": "stdout",
     "output_type": "stream",
     "text": [
      "1.0\n"
     ]
    }
   ],
   "source": [
    "x = math.cos(2 * math.pi)\n",
    "print(x)"
   ]
  },
  {
   "cell_type": "markdown",
   "metadata": {},
   "source": [
    "How about some better documentation so we do not need to guess what `math.pi` is?"
   ]
  },
  {
   "cell_type": "code",
   "execution_count": 19,
   "metadata": {
    "collapsed": false
   },
   "outputs": [
    {
     "data": {
      "text/html": [
       "\n",
       "        <iframe\n",
       "            width=\"1000\"\n",
       "            height=\"500\"\n",
       "            src=\"https://docs.python.org/2.7/library/math.html?highlight=math#module-math\"\n",
       "            frameborder=\"0\"\n",
       "            allowfullscreen\n",
       "        ></iframe>\n",
       "        "
      ],
      "text/plain": [
       "<IPython.lib.display.IFrame at 0x1037e0a90>"
      ]
     },
     "execution_count": 19,
     "metadata": {},
     "output_type": "execute_result"
    }
   ],
   "source": [
    "import IPython.lib.display as display\n",
    "display.IFrame('https://docs.python.org/2.7/library/math.html?highlight=math#module-math',\n",
    "              width=1000,\n",
    "              height=500)"
   ]
  },
  {
   "cell_type": "code",
   "execution_count": 21,
   "metadata": {
    "collapsed": true
   },
   "outputs": [],
   "source": [
    "#IPython also allows you a way to view individual function or method documentation.\n",
    "math.isinf?"
   ]
  },
  {
   "cell_type": "markdown",
   "metadata": {},
   "source": [
    "###Putting it the basics together and using functions"
   ]
  },
  {
   "cell_type": "code",
   "execution_count": 117,
   "metadata": {
    "collapsed": false
   },
   "outputs": [
    {
     "name": "stdout",
     "output_type": "stream",
     "text": [
      "Function called\n"
     ]
    }
   ],
   "source": [
    "def printfunc():\n",
    "    print(\"Function called\")\n",
    "    \n",
    "printfunc()"
   ]
  },
  {
   "cell_type": "code",
   "execution_count": 124,
   "metadata": {
    "collapsed": false
   },
   "outputs": [
    {
     "name": "stdout",
     "output_type": "stream",
     "text": [
      "n-Values: 5\n",
      "Sum: 15\n",
      "Mean: 3.0\n",
      "Variance: 2.0\n",
      "Sigma: 1.41421356237\n"
     ]
    }
   ],
   "source": [
    "def describe(v):\n",
    "    \"\"\"\n",
    "    Print some descriptive statistics for an iterable.\n",
    "    \n",
    "    Parameters\n",
    "    ----------\n",
    "    v : list\n",
    "        A list of numeric types\n",
    "    \n",
    "    Returns\n",
    "    --------\n",
    "    None\n",
    "    \"\"\"\n",
    "    total =  sum(v)\n",
    "    length = len(v)\n",
    "    mean = total  / length\n",
    "    var = sum([(mean - i) ** 2 for i in v]) / length\n",
    "    std = math.sqrt(var)\n",
    "    print(\"n-Values: {}\".format(length))\n",
    "    print(\"Sum: {}\".format(total))\n",
    "    print(\"Mean: {}\".format(mean))\n",
    "    print(\"Variance: {}\".format(var))\n",
    "    print(\"Sigma: {}\".format(std))\n",
    "    \n",
    "describe([1,2,3,4,5])"
   ]
  },
  {
   "cell_type": "code",
   "execution_count": 127,
   "metadata": {
    "collapsed": false
   },
   "outputs": [
    {
     "name": "stdout",
     "output_type": "stream",
     "text": [
      "n-Values: 10000\n",
      "Sum: 5000.19593517\n",
      "Mean: 0.500019593517\n",
      "Variance: 0.0822193997117\n",
      "Sigma: 0.286739253873\n"
     ]
    }
   ],
   "source": [
    "#How about something larger and with some random values\n",
    "import random\n",
    "rand = [random.random() for i in lrange(10000)]\n",
    "describe(rand)"
   ]
  },
  {
   "cell_type": "markdown",
   "metadata": {},
   "source": [
    "###Array based math"
   ]
  },
  {
   "cell_type": "code",
   "execution_count": 13,
   "metadata": {
    "collapsed": false
   },
   "outputs": [
    {
     "ename": "TypeError",
     "evalue": "can't multiply sequence by non-int of type 'list'",
     "output_type": "error",
     "traceback": [
      "\u001b[1;31m---------------------------------------------------------------------------\u001b[0m",
      "\u001b[1;31mTypeError\u001b[0m                                 Traceback (most recent call last)",
      "\u001b[1;32m<ipython-input-13-4e0dea1e0176>\u001b[0m in \u001b[0;36m<module>\u001b[1;34m()\u001b[0m\n\u001b[1;32m----> 1\u001b[1;33m \u001b[1;33m[\u001b[0m\u001b[1;36m7\u001b[0m\u001b[1;33m,\u001b[0m\u001b[1;36m3\u001b[0m\u001b[1;33m]\u001b[0m \u001b[1;33m*\u001b[0m \u001b[1;33m[\u001b[0m\u001b[1;36m6\u001b[0m\u001b[1;33m,\u001b[0m\u001b[1;36m4\u001b[0m\u001b[1;33m]\u001b[0m\u001b[1;33m\u001b[0m\u001b[0m\n\u001b[0m",
      "\u001b[1;31mTypeError\u001b[0m: can't multiply sequence by non-int of type 'list'"
     ]
    }
   ],
   "source": [
    "#Multiplication of two vectors\n",
    "[7,3] * [6,4]"
   ]
  },
  {
   "cell_type": "markdown",
   "metadata": {
    "collapsed": true
   },
   "source": [
    "So we need some other tools to work with common mathematical types."
   ]
  },
  {
   "cell_type": "code",
   "execution_count": null,
   "metadata": {
    "collapsed": true
   },
   "outputs": [],
   "source": []
  }
 ],
 "metadata": {
  "kernelspec": {
   "display_name": "Python 2",
   "language": "python",
   "name": "python2"
  },
  "language_info": {
   "codemirror_mode": {
    "name": "ipython",
    "version": 2
   },
   "file_extension": ".py",
   "mimetype": "text/x-python",
   "name": "python",
   "nbconvert_exporter": "python",
   "pygments_lexer": "ipython2",
   "version": "2.7.10"
  }
 },
 "nbformat": 4,
 "nbformat_minor": 0
}
